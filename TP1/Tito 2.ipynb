{
 "cells": [
  {
   "cell_type": "code",
   "execution_count": 1,
   "metadata": {},
   "outputs": [
    {
     "name": "stdout",
     "output_type": "stream",
     "text": [
      "Using matplotlib backend: Qt5Agg\n"
     ]
    }
   ],
   "source": [
    "#Si queremos que las imágenes sean mostradas en una ventana emergente quitar el inline\n",
    "%matplotlib\n",
    "\n",
    "# OpenCV-Python utiliza NumPy para el manejo de imágenes\n",
    "import numpy as np\n",
    "# cv2 es el módulo python para acceder a OpenCV \n",
    "import cv2 as cv\n",
    "# Usamos las poderosas herramientas de graficación de matplotlib para mostrar imágenes, perfiles, histogramas, etc\n",
    "import matplotlib.pyplot as plt\n"
   ]
  },
  {
   "cell_type": "code",
   "execution_count": 5,
   "metadata": {},
   "outputs": [
    {
     "name": "stdout",
     "output_type": "stream",
     "text": [
      "[[215 215 216 ... 209 206 207]\n",
      " [216 216 216 ... 204 207 205]\n",
      " [216 216 216 ... 205 206 204]\n",
      " ...\n",
      " [176 177 180 ... 149 152 151]\n",
      " [178 176 177 ... 152 155 152]\n",
      " [177 175 174 ... 156 152 151]]\n",
      "Canal rojo\n",
      "Canal verde\n",
      "Canal azul\n"
     ]
    }
   ],
   "source": [
    "img_color = cv.imread('CoordCrom_1.png')\n",
    "\n",
    "imgRGB = cv.cvtColor(img_color,cv.COLOR_BGR2RGB)\n",
    "\n",
    "im_r,im_g,im_b = cv.split(imgRGB)\n",
    "print(im_r)\n",
    "print('Canal rojo')\n",
    "plt.imshow(im_r,cmap = 'gray')\n",
    "plt.show()\n",
    "print('Canal verde')\n",
    "plt.imshow(im_g,cmap = 'gray')\n",
    "plt.show()\n",
    "print('Canal azul')\n",
    "plt.imshow(im_b,cmap = 'gray')\n",
    "plt.show()\n",
    "\n",
    "imgRGB2 = cv.merge((im_r,im_g*0,im_b*0))\n",
    "plt.imshow(imgRGB2)\n",
    "plt.show()\n"
   ]
  },
  {
   "cell_type": "code",
   "execution_count": null,
   "metadata": {},
   "outputs": [],
   "source": []
  }
 ],
 "metadata": {
  "kernelspec": {
   "display_name": "Python 3",
   "language": "python",
   "name": "python3"
  },
  "language_info": {
   "codemirror_mode": {
    "name": "ipython",
    "version": 3
   },
   "file_extension": ".py",
   "mimetype": "text/x-python",
   "name": "python",
   "nbconvert_exporter": "python",
   "pygments_lexer": "ipython3",
   "version": "3.8.5"
  }
 },
 "nbformat": 4,
 "nbformat_minor": 4
}
