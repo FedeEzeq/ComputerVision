{
 "cells": [
  {
   "cell_type": "code",
   "execution_count": 18,
   "metadata": {},
   "outputs": [
    {
     "name": "stdout",
     "output_type": "stream",
     "text": [
      "Using matplotlib backend: Qt5Agg\n"
     ]
    }
   ],
   "source": [
    "#Si queremos que las imágenes sean mostradas en una ventana emergente quitar el inline\n",
    "%matplotlib\n",
    "\n",
    "# OpenCV-Python utiliza NumPy para el manejo de imágenes\n",
    "import numpy as np\n",
    "# cv2 es el módulo python para acceder a OpenCV \n",
    "import cv2 as cv\n",
    "# Usamos las poderosas herramientas de graficación de matplotlib para mostrar imágenes, perfiles, histogramas, etc\n",
    "import matplotlib.pyplot as plt\n"
   ]
  },
  {
   "cell_type": "code",
   "execution_count": 59,
   "metadata": {},
   "outputs": [
    {
     "name": "stderr",
     "output_type": "stream",
     "text": [
      "Clipping input data to the valid range for imshow with RGB data ([0..1] for floats or [0..255] for integers).\n"
     ]
    },
    {
     "name": "stdout",
     "output_type": "stream",
     "text": [
      "(996, 908)\n",
      "[[1.66923077 1.6744186  1.65648855 ... 2.72727273 3.10526316 3.2       ]\n",
      " [1.6744186  1.6744186  1.6744186  ... 3.43137255 2.96666667 3.25925926]\n",
      " [1.66153846 1.64393939 1.64393939 ... 3.2        3.14285714 3.46      ]\n",
      " ...\n",
      " [0.66883117 0.65822785 0.64071856 ... 1.02702703 0.95180723 0.975     ]\n",
      " [0.65408805 0.66666667 0.66451613 ... 0.95180723 0.89130435 0.95180723]\n",
      " [0.65384615 0.66447368 0.66666667 ... 0.88172043 0.96296296 1.01333333]]\n"
     ]
    }
   ],
   "source": [
    "#IMAGEN 1\n",
    "img_tito_1 = cv.imread('CoordCrom_1.png')\n",
    "#print (img_tito_1.shape)\n",
    "imgRGB1 = cv.cvtColor(img_tito_1,cv.COLOR_BGR2RGB)\n",
    "\n",
    "im_r,im_g,im_b = cv.split(img_tito_1)\n",
    "#print(im_r)\n",
    "#print (\"---------------------\")\n",
    "#print(im_g)\n",
    "#print (\"---------------------\")\n",
    "#print(im_b)\n",
    "\n",
    "suma = im_r + im_g + im_b \n",
    "suma[suma==0] = 1\n",
    "print (suma.shape)\n",
    "\n",
    "im_r2 = im_r / suma\n",
    "im_g2 = im_g / suma\n",
    "im_b2 = im_b / suma\n",
    "print(im_r2)\n",
    "\n",
    "imgRGB2 = cv.merge((im_r2,im_g2,im_b2))\n",
    "plt.imshow(imgRGB2)\n",
    "plt.show()\n",
    "\n",
    "#plt.imshow(im_b, interpolation='nearest') #para llevar de matriz a imagen\n",
    "#plt.show()"
   ]
  },
  {
   "cell_type": "code",
   "execution_count": 58,
   "metadata": {},
   "outputs": [
    {
     "name": "stderr",
     "output_type": "stream",
     "text": [
      "Clipping input data to the valid range for imshow with RGB data ([0..1] for floats or [0..255] for integers).\n"
     ]
    },
    {
     "name": "stdout",
     "output_type": "stream",
     "text": [
      "(996, 908)\n",
      "[[ 1.22093023  1.25301205  1.4084507  ... 71.          0.27559055\n",
      "   0.27559055]\n",
      " [ 1.2875      1.36486486  1.36486486 ...  0.27559055  0.27346939\n",
      "   0.27346939]\n",
      " [ 1.36486486  1.32467532  1.4084507  ...  0.27559055 18.\n",
      "   0.27419355]\n",
      " ...\n",
      " [ 0.14876033  0.15322581  0.14166667 ...  0.13592233  0.1122449\n",
      "   0.125     ]\n",
      " [ 0.15748031  0.1440678   0.15079365 ...  0.13592233  0.12121212\n",
      "   0.11881188]\n",
      " [ 0.14876033  0.16541353  0.15503876 ...  0.11702128  0.13\n",
      "   0.12371134]]\n"
     ]
    }
   ],
   "source": [
    "#IMAGEN 2\n",
    "img_tito_2 = cv.imread('CoordCrom_2.png')\n",
    "#print (img_tito_2.shape)\n",
    "imgRGB1 = cv.cvtColor(img_tito_2,cv.COLOR_BGR2RGB)\n",
    "\n",
    "im_r,im_g,im_b = cv.split(img_tito_2)\n",
    "\n",
    "suma = im_r + im_g + im_b \n",
    "suma[suma==0] = 1\n",
    "print (suma.shape)\n",
    "\n",
    "im_r2 = im_r / suma\n",
    "im_g2 = im_g / suma\n",
    "im_b2 = im_b / suma\n",
    "print(im_r2)\n",
    "\n",
    "imgRGB2 = cv.merge((im_r2,im_g2,im_b2))\n",
    "plt.imshow(imgRGB2)\n",
    "plt.show()\n"
   ]
  },
  {
   "cell_type": "code",
   "execution_count": 60,
   "metadata": {},
   "outputs": [
    {
     "name": "stderr",
     "output_type": "stream",
     "text": [
      "Clipping input data to the valid range for imshow with RGB data ([0..1] for floats or [0..255] for integers).\n"
     ]
    },
    {
     "name": "stdout",
     "output_type": "stream",
     "text": [
      "(996, 908)\n",
      "[[0.28415301 0.28921569 0.28787879 ... 0.33557047 0.33557047 0.33552632]\n",
      " [0.28921569 0.28645833 0.28921569 ... 0.33557047 0.33557047 0.33566434]\n",
      " [0.29064039 0.29126214 0.28855721 ... 0.33557047 0.33566434 0.33557047]\n",
      " ...\n",
      " [0.11111111 0.12       0.11111111 ... 0.02439024 0.06521739 0.09615385]\n",
      " [0.12987013 0.12820513 0.12820513 ... 0.08       0.10714286 0.08      ]\n",
      " [0.12820513 0.12       0.13580247 ... 0.08       0.08       0.08      ]]\n"
     ]
    }
   ],
   "source": [
    "#IMAGEN 3\n",
    "img_tito_3 = cv.imread('CoordCrom_3.png')\n",
    "#print (img_tito_3.shape)\n",
    "imgRGB1 = cv.cvtColor(img_tito_3,cv.COLOR_BGR2RGB)\n",
    "\n",
    "im_r,im_g,im_b = cv.split(img_tito_3)\n",
    "\n",
    "suma = im_r + im_g + im_b \n",
    "suma[suma==0] = 1\n",
    "print (suma.shape)\n",
    "\n",
    "im_r2 = im_r / suma\n",
    "im_g2 = im_g / suma\n",
    "im_b2 = im_b / suma\n",
    "print(im_r2)\n",
    "\n",
    "imgRGB2 = cv.merge((im_r2,im_g2,im_b2))\n",
    "plt.imshow(imgRGB2)\n",
    "plt.show()\n"
   ]
  },
  {
   "cell_type": "code",
   "execution_count": null,
   "metadata": {},
   "outputs": [],
   "source": []
  }
 ],
 "metadata": {
  "kernelspec": {
   "display_name": "Python 3",
   "language": "python",
   "name": "python3"
  },
  "language_info": {
   "codemirror_mode": {
    "name": "ipython",
    "version": 3
   },
   "file_extension": ".py",
   "mimetype": "text/x-python",
   "name": "python",
   "nbconvert_exporter": "python",
   "pygments_lexer": "ipython3",
   "version": "3.8.5"
  }
 },
 "nbformat": 4,
 "nbformat_minor": 4
}
